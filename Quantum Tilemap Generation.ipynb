{
 "cells": [
  {
   "cell_type": "code",
   "execution_count": 1,
   "id": "a67675e2",
   "metadata": {},
   "outputs": [],
   "source": [
    "import numpy as np\n",
    "import os\n",
    "import matplotlib.pyplot as plt\n",
    "import dimod\n",
    "from dimod.generators.constraints import combinations\n",
    "from hybrid.reference import KerberosSampler"
   ]
  },
  {
   "cell_type": "code",
   "execution_count": 2,
   "id": "4a0bd7d0",
   "metadata": {},
   "outputs": [],
   "source": [
    "dataset = 'knots' #either 'knots' or 'summer'"
   ]
  },
  {
   "cell_type": "code",
   "execution_count": 3,
   "id": "0114abc2",
   "metadata": {},
   "outputs": [],
   "source": [
    "tiles = np.load(f'data/{dataset}_tiles.npy')"
   ]
  },
  {
   "cell_type": "code",
   "execution_count": 4,
   "id": "f96ee9c0",
   "metadata": {},
   "outputs": [
    {
     "data": {
      "text/plain": [
       "(9, 10, 10, 3)"
      ]
     },
     "execution_count": 4,
     "metadata": {},
     "output_type": "execute_result"
    }
   ],
   "source": [
    "tiles.shape"
   ]
  },
  {
   "cell_type": "code",
   "execution_count": 5,
   "id": "56deb383",
   "metadata": {},
   "outputs": [
    {
     "data": {
      "image/png": "[encoded data removed]",
      "text/plain": [
       "<Figure size 432x288 with 1 Axes>"
      ]
     },
     "metadata": {
      "needs_background": "light"
     },
     "output_type": "display_data"
    }
   ],
   "source": [
    "plt.imshow(tiles[5])\n",
    "plt.show()"
   ]
  },
  {
   "cell_type": "code",
   "execution_count": 6,
   "id": "42b5086c",
   "metadata": {},
   "outputs": [],
   "source": [
    "maps = np.load(f'data/{dataset}_maps.npy')"
   ]
  },
  {
   "cell_type": "code",
   "execution_count": 7,
   "id": "12f39586",
   "metadata": {},
   "outputs": [
    {
     "data": {
      "text/plain": [
       "(5, 10, 10)"
      ]
     },
     "execution_count": 7,
     "metadata": {},
     "output_type": "execute_result"
    }
   ],
   "source": [
    "maps.shape"
   ]
  },
  {
   "cell_type": "code",
   "execution_count": 8,
   "id": "5746fa98",
   "metadata": {},
   "outputs": [],
   "source": [
    "def display_image_from_tilemap(tilemap, tiles, x_dim = maps[0].shape[0], y_dim = maps[0].shape[1], tile_size=tiles[0].shape[0]):\n",
    "    output_img = np.zeros((x_dim*tile_size,y_dim*tile_size,3))\n",
    "    for i in range(x_dim):\n",
    "        for j in range(y_dim):\n",
    "            output_img[i*tile_size:i*tile_size+tile_size, j*tile_size:j*tile_size+tile_size, :] = tiles[int(tilemap[i,j])]\n",
    "    fig = plt.figure(figsize = (8,8))\n",
    "    ax3 = fig.add_subplot(111)\n",
    "    ax3.imshow(np.uint8(output_img), interpolation='none')\n",
    "    plt.show()"
   ]
  },
  {
   "cell_type": "code",
   "execution_count": 9,
   "id": "68264f91",
   "metadata": {
    "scrolled": false
   },
   "outputs": [
    {
     "data": {
      "image/png": "[encoded data removed]",
      "text/plain": [
       "<Figure size 576x576 with 1 Axes>"
      ]
     },
     "metadata": {
      "needs_background": "light"
     },
     "output_type": "display_data"
    }
   ],
   "source": [
    "display_image_from_tilemap(maps[3], tiles)"
   ]
  },
  {
   "cell_type": "code",
   "execution_count": 10,
   "id": "ad2e8905",
   "metadata": {},
   "outputs": [],
   "source": [
    "top_allowed = set()"
   ]
  },
  {
   "cell_type": "code",
   "execution_count": 11,
   "id": "7b732a2f",
   "metadata": {},
   "outputs": [],
   "source": [
    "for map in maps:\n",
    "    for i in range(1, len(map)):\n",
    "        for j in range(len(map[i])):\n",
    "            top_allowed.add((map[i][j], map[i-1][j]))"
   ]
  },
  {
   "cell_type": "code",
   "execution_count": 12,
   "id": "34207807",
   "metadata": {},
   "outputs": [],
   "source": [
    "left_allowed = set()"
   ]
  },
  {
   "cell_type": "code",
   "execution_count": 13,
   "id": "491542da",
   "metadata": {},
   "outputs": [],
   "source": [
    "for map in maps:\n",
    "    for i in range(len(map)):\n",
    "        for j in range(1, len(map[i])):\n",
    "            left_allowed.add((map[i][j], map[i][j-1]))"
   ]
  },
  {
   "cell_type": "code",
   "execution_count": 14,
   "id": "e5f91d2e",
   "metadata": {},
   "outputs": [],
   "source": [
    "all_combinations = set()"
   ]
  },
  {
   "cell_type": "code",
   "execution_count": 15,
   "id": "60bdc131",
   "metadata": {},
   "outputs": [],
   "source": [
    "for i in range(len(tiles)):\n",
    "    for j in range(len(tiles)):\n",
    "        all_combinations.add((i,j))"
   ]
  },
  {
   "cell_type": "code",
   "execution_count": 16,
   "id": "2f3d5b9f",
   "metadata": {},
   "outputs": [],
   "source": [
    "left_not_allowed = all_combinations - left_allowed"
   ]
  },
  {
   "cell_type": "code",
   "execution_count": 17,
   "id": "bd1d4a13",
   "metadata": {},
   "outputs": [],
   "source": [
    "top_not_allowed = all_combinations - top_allowed"
   ]
  },
  {
   "cell_type": "code",
   "execution_count": 18,
   "id": "fd082bfd",
   "metadata": {},
   "outputs": [],
   "source": [
    "def get_label(row, col, tile):\n",
    "    return \"{row},{col}_{tile}\".format(**locals())"
   ]
  },
  {
   "cell_type": "code",
   "execution_count": 19,
   "id": "dd6654fa",
   "metadata": {},
   "outputs": [],
   "source": [
    "numTiles = tiles.shape[0]\n",
    "numRows = tiles.shape[1]\n",
    "numColumns = tiles.shape[2]"
   ]
  },
  {
   "cell_type": "code",
   "execution_count": 20,
   "id": "e9ff77dd",
   "metadata": {},
   "outputs": [],
   "source": [
    "bqm = dimod.BinaryQuadraticModel({}, {}, 0.0, 'BINARY')"
   ]
  },
  {
   "cell_type": "code",
   "execution_count": 21,
   "id": "6ed27e3b",
   "metadata": {},
   "outputs": [],
   "source": [
    "for i in range(numRows):\n",
    "    for j in range(numColumns):\n",
    "        for k in range(numTiles):\n",
    "            bqm.add_variable(get_label(i,j,k))"
   ]
  },
  {
   "cell_type": "code",
   "execution_count": 22,
   "id": "b752c8b6",
   "metadata": {},
   "outputs": [],
   "source": [
    "for i in range(1,numRows):\n",
    "    for j in range(numColumns):\n",
    "        for k in top_not_allowed:\n",
    "            bqm.add_interaction(get_label(i,j,k[0]), get_label(i-1,j,k[1]),1)"
   ]
  },
  {
   "cell_type": "code",
   "execution_count": 23,
   "id": "981a8a2b",
   "metadata": {},
   "outputs": [],
   "source": [
    "for i in range(numRows):\n",
    "    for j in range(1,numColumns):\n",
    "        for k in left_not_allowed:\n",
    "            bqm.add_interaction(get_label(i,j,k[0]), get_label(i,j-1,k[1]),1)"
   ]
  },
  {
   "cell_type": "code",
   "execution_count": 24,
   "id": "c963018c",
   "metadata": {},
   "outputs": [],
   "source": [
    "for i in range(numRows):\n",
    "    for j in range(numColumns):\n",
    "        comb = [get_label(i,j,k) for k in range(numTiles)]\n",
    "        comb_bqm = combinations(comb, 1,strength=1)\n",
    "        bqm.update(comb_bqm)"
   ]
  },
  {
   "cell_type": "code",
   "execution_count": 25,
   "id": "8e78a7e8",
   "metadata": {},
   "outputs": [],
   "source": [
    "solution = KerberosSampler().sample(bqm,\n",
    "                                    max_iter=10,\n",
    "                                    convergence=3,\n",
    "                                    qpu_params={'label': 'Map Generation'})"
   ]
  },
  {
   "cell_type": "code",
   "execution_count": 26,
   "id": "a23b0e9c",
   "metadata": {},
   "outputs": [],
   "source": [
    "result = solution.first.sample"
   ]
  },
  {
   "cell_type": "code",
   "execution_count": 27,
   "id": "d87cd3ab",
   "metadata": {},
   "outputs": [],
   "source": [
    "gen_img = np.zeros(maps[0].shape)\n",
    "for key in result:\n",
    "    if result[key] > 0:\n",
    "        coords,tile = key.split(\"_\")\n",
    "        tile = int(tile)\n",
    "        x,y = coords.split(\",\")\n",
    "        x = int(x)\n",
    "        y = int(y)\n",
    "        gen_img[x,y] = tile"
   ]
  },
  {
   "cell_type": "code",
   "execution_count": 28,
   "id": "c8e656f1",
   "metadata": {},
   "outputs": [
    {
     "data": {
      "image/png": "[encoded data removed]",
      "text/plain": [
       "<Figure size 576x576 with 1 Axes>"
      ]
     },
     "metadata": {
      "needs_background": "light"
     },
     "output_type": "display_data"
    }
   ],
   "source": [
    "display_image_from_tilemap(gen_img, tiles)"
   ]
  }
 ],
 "metadata": {
  "kernelspec": {
   "display_name": "Python 3",
   "language": "python",
   "name": "python3"
  },
  "language_info": {
   "codemirror_mode": {
    "name": "ipython",
    "version": 3
   },
   "file_extension": ".py",
   "mimetype": "text/x-python",
   "name": "python",
   "nbconvert_exporter": "python",
   "pygments_lexer": "ipython3",
   "version": "3.9.5"
  }
 },
 "nbformat": 4,
 "nbformat_minor": 5
}
